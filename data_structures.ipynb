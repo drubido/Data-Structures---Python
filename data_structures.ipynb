{
 "cells": [
  {
   "cell_type": "markdown",
   "metadata": {},
   "source": [
    "# Data Structures"
   ]
  },
  {
   "cell_type": "markdown",
   "metadata": {},
   "source": [
    "<img src=\"https://www.python.org/static/community_logos/python-logo-inkscape.svg\" />"
   ]
  },
  {
   "cell_type": "markdown",
   "metadata": {},
   "source": [
    "## Stacks"
   ]
  },
  {
   "cell_type": "markdown",
   "metadata": {},
   "source": [
    "When using stacks the analogy is very simple. Lets say we have a stack of books over our desk, in such case we can only see\n",
    "the first Item of our stack, further more the last item or book add it to our stack will be the first one in our stack.\n",
    "We are also able to check how many books we have in our stack, as well as check if our stack is empty at some point. It is also possible to \n",
    "access a book from the stack, but in order to do so we will need to remove or take out of the way the books that were add it after this one we are removing,\n",
    "then we can always add those books back to the stack or if wanted we can add new books to our stack. "
   ]
  },
  {
   "cell_type": "markdown",
   "metadata": {},
   "source": [
    "In computer science stacks are use in a very similar way, manipulating the list data type we can create an abstraction of real life stacks to solve different problems."
   ]
  },
  {
   "cell_type": "markdown",
   "metadata": {},
   "source": [
    "```python\n",
    "class Stack:\n",
    "    # Create stack\n",
    "    def __init__(self):\n",
    "        self.items = []\n",
    "\n",
    "    # Check if stack is empty\n",
    "    def isEmpty(self):\n",
    "        return self.items == []\n",
    "\n",
    "    # Add item to stack\n",
    "    def push(self, item):\n",
    "        self.items.append(item)\n",
    "\n",
    "    # Eliminate first item in the stack\n",
    "    def pop(self):\n",
    "        return self.items.pop()\n",
    "\n",
    "    # Access last item in the stack\n",
    "    def peek(self):\n",
    "        return self.items[len(self.items)-1]\n",
    "\n",
    "    # Get the size of my stack\n",
    "    def size(self):\n",
    "        return len(self.items)\n",
    "```"
   ]
  },
  {
   "cell_type": "markdown",
   "metadata": {},
   "source": [
    "You can find the __Stack__ class inside DataStructures Folder, feel free to used to work out aome examples.\n",
    "One of the most commun problem in computer science is the numeric system conversion algorithm."
   ]
  },
  {
   "cell_type": "markdown",
   "metadata": {},
   "source": [
    "For example, the algorithm works the following way, lets say we are giving a number in the standard decimal number system,\n",
    "256, to convert this number to a binary system we will divide the number by two and keep track of the remainders(0 or 1). After finishing the division\n",
    "our binary number will a sequence of our remainders starting with the last remainder we got and finishing with the first one.\n",
    "This automatically pops into our head like a trivial __stack__ situation due to the fact that our last resulting remainder will be \n",
    "will be the first item of our sequence of 0s and 1s."
   ]
  },
  {
   "cell_type": "code",
   "execution_count": 11,
   "metadata": {},
   "outputs": [
    {
     "name": "stdout",
     "output_type": "stream",
     "text": [
      "Enter the base of the number system you want to convert to: 2\n",
      "Enter the number you want to convert: 256\n",
      "0b100000000\n"
     ]
    }
   ],
   "source": [
    "from Documents.Python.Notebooks.DataStructures.stacks import Stack \n",
    "\n",
    "def number_sys_convert (decimalNumber, numberSystem):\n",
    "\tposibleDigits = \"0123456789ABCDEF\"\n",
    "\n",
    "\tremainderStack = Stack()\n",
    "\n",
    "\twhile decimalNumber > 0:\n",
    "\t\tremainder = decimalNumber % numberSystem\n",
    "\t\tremainderStack.push(remainder)\n",
    "\t\tdecimalNumber = decimalNumber // numberSystem\n",
    "\n",
    "\tnumberString = \"\"\n",
    "\n",
    "\twhile not remainderStack.isEmpty():\n",
    "\t\tnumberString = numberString + posibleDigits[remainderStack.pop()]\n",
    "\n",
    "\treturn numberString\n",
    "\n",
    "try:\n",
    "\tuser_choice_number_sys = int (input(\"Enter the base of the number system you want to convert to: \"))\n",
    "\tuser_num_to_convert = int (input(\"Enter the number you want to convert: \"))\n",
    "\tif (((user_choice_number_sys != 2) or (user_choice_number_sys != 8) or (user_choice_number_sys != 16)) and (user_num_to_convert < 0)):\n",
    "\t\traise Exception\n",
    "\telif user_choice_number_sys == 2:\n",
    "\t\tprint(\"0b\"+number_sys_convert(user_num_to_convert,user_choice_number_sys))\n",
    "\telif user_choice_number_sys == 8:\n",
    "\t\tprint(\"0o\"+number_sys_convert(user_num_to_convert,user_choice_number_sys))\n",
    "\telif user_choice_number_sys == 16:\n",
    "\t\tprint(\"0x\"+number_sys_convert(user_num_to_convert,user_choice_number_sys))\n",
    "\n",
    "except Exception:\n",
    "\tprint (\"Wrong entry reset the program and try again.\")"
   ]
  },
  {
   "cell_type": "markdown",
   "metadata": {},
   "source": [
    "of course the program exhibit before is a little bit complicated to begin with, but is quiet nice to use an aplication \n",
    "of how can we solve a real problem using stacks. The following examples we will play with each of the methods in the stack class."
   ]
  },
  {
   "cell_type": "code",
   "execution_count": 20,
   "metadata": {},
   "outputs": [
    {
     "name": "stdout",
     "output_type": "stream",
     "text": [
      "True\n",
      "False\n",
      "I have: 4 books in my stack.\n",
      "Differential Equations\n",
      "Linear Algebra I\n"
     ]
    }
   ],
   "source": [
    "from Documents.Python.Notebooks.DataStructures.stacks import Stack\n",
    "myStack = Stack() # Create an instance of my class Stack\n",
    "\n",
    "# Checking if myStack is empty\n",
    "\n",
    "print (myStack.isEmpty()) # Should return a True value\n",
    "\n",
    "# Adding items to my stack, myStack is a stack of books\n",
    "myStack.push(\"Python Programing III\")\n",
    "myStack.push(\"Calculus II\")\n",
    "myStack.push(\"Linear Algebra I\")\n",
    "myStack.push(\"Differential Equations\")\n",
    "\n",
    "# Checking if myStack is empty\n",
    "print (myStack.isEmpty()) # Should return a False value since we have add it books to my stack\n",
    "\n",
    "# Check the size of myStack\n",
    "print (\"I have: \" + str(myStack.size()) + \" books in my stack.\")\n",
    "\n",
    "# Check the first Item of my stack (Remember last item add it)\n",
    "print (myStack.peek())\n",
    "\n",
    "# Removing Items from the top of my stack\n",
    "myStack.pop()\n",
    "\n",
    "# Checking the top of my stack again (check if Differential equation book was removed)\n",
    "print (myStack.peek())"
   ]
  },
  {
   "cell_type": "markdown",
   "metadata": {},
   "source": [
    "It is also possible to add lists to my stack"
   ]
  },
  {
   "cell_type": "code",
   "execution_count": 21,
   "metadata": {},
   "outputs": [],
   "source": [
    "myStack.push([\"Calculus I\", \"CSS & HTML\", \"Java Script for Beginers\"])"
   ]
  },
  {
   "cell_type": "markdown",
   "metadata": {},
   "source": [
    "if now we __peek__ the top of the stack"
   ]
  },
  {
   "cell_type": "code",
   "execution_count": 22,
   "metadata": {},
   "outputs": [
    {
     "name": "stdout",
     "output_type": "stream",
     "text": [
      "['Calculus I', 'CSS & HTML', 'Java Script for Beginers']\n"
     ]
    }
   ],
   "source": [
    "print(myStack.peek())"
   ]
  },
  {
   "cell_type": "markdown",
   "metadata": {},
   "source": [
    "In other words we can have __list of stacks__. We can also create a __stack__ with default values or initial values on it."
   ]
  },
  {
   "cell_type": "code",
   "execution_count": null,
   "metadata": {},
   "outputs": [],
   "source": []
  }
 ],
 "metadata": {
  "kernelspec": {
   "display_name": "Python 3",
   "language": "python",
   "name": "python3"
  },
  "language_info": {
   "codemirror_mode": {
    "name": "ipython",
    "version": 3
   },
   "file_extension": ".py",
   "mimetype": "text/x-python",
   "name": "python",
   "nbconvert_exporter": "python",
   "pygments_lexer": "ipython3",
   "version": "3.7.0"
  },
  "toc": {
   "base_numbering": 1,
   "nav_menu": {},
   "number_sections": true,
   "sideBar": true,
   "skip_h1_title": false,
   "title_cell": "Table of Contents",
   "title_sidebar": "Contents",
   "toc_cell": false,
   "toc_position": {},
   "toc_section_display": true,
   "toc_window_display": false
  },
  "varInspector": {
   "cols": {
    "lenName": 16,
    "lenType": 16,
    "lenVar": 40
   },
   "kernels_config": {
    "python": {
     "delete_cmd_postfix": "",
     "delete_cmd_prefix": "del ",
     "library": "var_list.py",
     "varRefreshCmd": "print(var_dic_list())"
    },
    "r": {
     "delete_cmd_postfix": ") ",
     "delete_cmd_prefix": "rm(",
     "library": "var_list.r",
     "varRefreshCmd": "cat(var_dic_list()) "
    }
   },
   "types_to_exclude": [
    "module",
    "function",
    "builtin_function_or_method",
    "instance",
    "_Feature"
   ],
   "window_display": false
  }
 },
 "nbformat": 4,
 "nbformat_minor": 2
}
